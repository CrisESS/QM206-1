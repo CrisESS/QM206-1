{
 "cells": [
  {
   "cell_type": "markdown",
   "metadata": {},
   "source": [
    "# Diccionarios\n"
   ]
  },
  {
   "cell_type": "code",
   "execution_count": 25,
   "metadata": {},
   "outputs": [],
   "source": [
    "prop={\"H\":[\"hidrogeno\",1,1],\"C\":[\"carbono\",6,4],\"N\":[\"nitrógeno\",7,3]}"
   ]
  },
  {
   "cell_type": "markdown",
   "metadata": {},
   "source": [
    "## Métodos"
   ]
  },
  {
   "cell_type": "markdown",
   "metadata": {},
   "source": [
    "## Método Get()\n",
    "\n",
    "El método get() devuelve el valor de la clave especificada si la clave está en el diccionario."
   ]
  },
  {
   "cell_type": "code",
   "execution_count": 26,
   "metadata": {},
   "outputs": [
    {
     "data": {
      "text/plain": [
       "['carbono', 6, 4]"
      ]
     },
     "execution_count": 26,
     "metadata": {},
     "output_type": "execute_result"
    }
   ],
   "source": [
    "prop.get(\"C\")"
   ]
  },
  {
   "cell_type": "code",
   "execution_count": 27,
   "metadata": {},
   "outputs": [
    {
     "data": {
      "text/plain": [
       "['nitrógeno', 7, 3]"
      ]
     },
     "execution_count": 27,
     "metadata": {},
     "output_type": "execute_result"
    }
   ],
   "source": [
    "prop.get(\"N\")"
   ]
  },
  {
   "cell_type": "markdown",
   "metadata": {},
   "source": [
    "## Método items()\n",
    "\n",
    "El método items() devuelve un objeto de vista que muestra una lista de pares de tuplas del diccionario (clave, valor)."
   ]
  },
  {
   "cell_type": "code",
   "execution_count": 28,
   "metadata": {},
   "outputs": [
    {
     "data": {
      "text/plain": [
       "dict_items([('H', ['hidrogeno', 1, 1]), ('C', ['carbono', 6, 4]), ('N', ['nitrógeno', 7, 3])])"
      ]
     },
     "execution_count": 28,
     "metadata": {},
     "output_type": "execute_result"
    }
   ],
   "source": [
    "dictItems=prop.items()\n",
    "dictItems"
   ]
  },
  {
   "cell_type": "code",
   "execution_count": 29,
   "metadata": {},
   "outputs": [
    {
     "name": "stdout",
     "output_type": "stream",
     "text": [
      "dict_items([('C', ['carbono', 6, 4]), ('N', ['nitrógeno', 7, 3])])\n"
     ]
    }
   ],
   "source": [
    "del(prop['H'])\n",
    "print(dictItems)"
   ]
  },
  {
   "cell_type": "markdown",
   "metadata": {},
   "source": [
    "## Método keys()\n",
    "\n",
    "El método keys () devuelve un objeto de vista que muestra una lista de todas las claves en el diccionario"
   ]
  },
  {
   "cell_type": "code",
   "execution_count": 30,
   "metadata": {},
   "outputs": [
    {
     "name": "stdout",
     "output_type": "stream",
     "text": [
      "dict_keys(['C', 'N'])\n"
     ]
    }
   ],
   "source": [
    "keys=prop.keys()\n",
    "print(keys)"
   ]
  },
  {
   "cell_type": "markdown",
   "metadata": {},
   "source": [
    "## Método values()\n",
    "\n",
    "El método values() devuelve un objeto de vista que muestra una lista de todos los valores en el diccionario."
   ]
  },
  {
   "cell_type": "code",
   "execution_count": 31,
   "metadata": {},
   "outputs": [
    {
     "name": "stdout",
     "output_type": "stream",
     "text": [
      "dict_values([['carbono', 6, 4], ['nitrógeno', 7, 3]])\n"
     ]
    }
   ],
   "source": [
    "values=prop.values()\n",
    "print(values)"
   ]
  },
  {
   "cell_type": "markdown",
   "metadata": {},
   "source": [
    "## Método copy()\n",
    "\n",
    "El método copy() devuelve una copia superficial del diccionario."
   ]
  },
  {
   "cell_type": "code",
   "execution_count": 32,
   "metadata": {},
   "outputs": [
    {
     "name": "stdout",
     "output_type": "stream",
     "text": [
      "{'C': ['carbono', 6, 4], 'N': ['nitrógeno', 7, 3]}\n"
     ]
    }
   ],
   "source": [
    "elem=prop.copy()\n",
    "print(elem)"
   ]
  },
  {
   "cell_type": "markdown",
   "metadata": {},
   "source": [
    "## Método update()\n",
    "\n",
    "El método update () actualiza el diccionario con los elementos del otro objeto del diccionario o de un conjunto de pares clave / valor."
   ]
  },
  {
   "cell_type": "code",
   "execution_count": 33,
   "metadata": {},
   "outputs": [
    {
     "name": "stdout",
     "output_type": "stream",
     "text": [
      "{'C': ['carbono', 6, 4], 'N': ['nitrógeno', 7, 3], 'H': ['hidrógeno', 1, 1], 'O': ['oxígeno', 6, 2]}\n"
     ]
    }
   ],
   "source": [
    "elem.update({\"H\":[\"hidrógeno\",1,1],\"O\":[\"oxígeno\",6,2]})\n",
    "print(elem)"
   ]
  },
  {
   "cell_type": "code",
   "execution_count": null,
   "metadata": {},
   "outputs": [],
   "source": []
  }
 ],
 "metadata": {
  "kernelspec": {
   "display_name": "Python 3",
   "language": "python",
   "name": "python3"
  },
  "language_info": {
   "codemirror_mode": {
    "name": "ipython",
    "version": 3
   },
   "file_extension": ".py",
   "mimetype": "text/x-python",
   "name": "python",
   "nbconvert_exporter": "python",
   "pygments_lexer": "ipython3",
   "version": "3.6.5"
  }
 },
 "nbformat": 4,
 "nbformat_minor": 2
}
