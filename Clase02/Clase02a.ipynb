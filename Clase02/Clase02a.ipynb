{
 "cells": [
  {
   "cell_type": "markdown",
   "metadata": {},
   "source": [
    "## LISTAS"
   ]
  },
  {
   "cell_type": "code",
   "execution_count": 127,
   "metadata": {},
   "outputs": [],
   "source": [
    "elementos=[\"Hidrógeno\",\"Boro\",\"Carbono\",\"Nitrógeno\",\"Oxígeno\",\"Fluor\"]"
   ]
  },
  {
   "cell_type": "markdown",
   "metadata": {},
   "source": [
    "La funión len se utiliza para detrmiar el numero de elementos que hay en la lista"
   ]
  },
  {
   "cell_type": "code",
   "execution_count": 128,
   "metadata": {},
   "outputs": [
    {
     "data": {
      "text/plain": [
       "6"
      ]
     },
     "execution_count": 128,
     "metadata": {},
     "output_type": "execute_result"
    }
   ],
   "source": [
    "len(elementos)"
   ]
  },
  {
   "cell_type": "markdown",
   "metadata": {},
   "source": [
    "Se puede acceder a cada elemento utizando su índice correspondiente en la lista que va desde 0--> n-1 donde n es el número de elementos de la lista. El primero elemento tiene índice 0 y el último tiene índice n-1"
   ]
  },
  {
   "cell_type": "code",
   "execution_count": 129,
   "metadata": {},
   "outputs": [
    {
     "data": {
      "text/plain": [
       "'Nitrógeno'"
      ]
     },
     "execution_count": 129,
     "metadata": {},
     "output_type": "execute_result"
    }
   ],
   "source": [
    "elementos[3]"
   ]
  },
  {
   "cell_type": "markdown",
   "metadata": {},
   "source": [
    "Podemos extraer un rango de elementos de la lista especificando lista[n1:n2], donde n1 es el índice del elemento a extraer y n2 es e último elemento el cual queda excluido del rango a extraer."
   ]
  },
  {
   "cell_type": "code",
   "execution_count": 130,
   "metadata": {},
   "outputs": [
    {
     "data": {
      "text/plain": [
       "['Carbono', 'Nitrógeno', 'Oxígeno']"
      ]
     },
     "execution_count": 130,
     "metadata": {},
     "output_type": "execute_result"
    }
   ],
   "source": [
    "elementos[2:5]"
   ]
  },
  {
   "cell_type": "markdown",
   "metadata": {},
   "source": [
    "Para excluir los dos primeros elementos de la lista utilizamos:"
   ]
  },
  {
   "cell_type": "code",
   "execution_count": 131,
   "metadata": {},
   "outputs": [
    {
     "data": {
      "text/plain": [
       "['Carbono', 'Nitrógeno', 'Oxígeno', 'Fluor']"
      ]
     },
     "execution_count": 131,
     "metadata": {},
     "output_type": "execute_result"
    }
   ],
   "source": [
    "elementos[2:]"
   ]
  },
  {
   "cell_type": "markdown",
   "metadata": {},
   "source": [
    "Para extraer los dos primeros elementos de la lista utilizamos:"
   ]
  },
  {
   "cell_type": "code",
   "execution_count": 132,
   "metadata": {},
   "outputs": [
    {
     "data": {
      "text/plain": [
       "['Hidrógeno', 'Boro']"
      ]
     },
     "execution_count": 132,
     "metadata": {},
     "output_type": "execute_result"
    }
   ],
   "source": [
    "elementos[:2]"
   ]
  },
  {
   "cell_type": "markdown",
   "metadata": {},
   "source": [
    "Para extraer los 2 últimos elementos de la lista podemos utilizar:"
   ]
  },
  {
   "cell_type": "code",
   "execution_count": 133,
   "metadata": {},
   "outputs": [
    {
     "data": {
      "text/plain": [
       "['Oxígeno', 'Fluor']"
      ]
     },
     "execution_count": 133,
     "metadata": {},
     "output_type": "execute_result"
    }
   ],
   "source": [
    "elementos[-2:]"
   ]
  },
  {
   "cell_type": "markdown",
   "metadata": {},
   "source": [
    "Para excluir los dos últimos elementos de la lista:"
   ]
  },
  {
   "cell_type": "code",
   "execution_count": 134,
   "metadata": {},
   "outputs": [
    {
     "data": {
      "text/plain": [
       "['Hidrógeno', 'Boro', 'Carbono', 'Nitrógeno']"
      ]
     },
     "execution_count": 134,
     "metadata": {},
     "output_type": "execute_result"
    }
   ],
   "source": [
    "elementos[:-2]"
   ]
  },
  {
   "cell_type": "markdown",
   "metadata": {},
   "source": [
    "## Método sort()\n",
    "\n",
    "El método sort() ordena los elementos de una lista dada."
   ]
  },
  {
   "cell_type": "code",
   "execution_count": 135,
   "metadata": {},
   "outputs": [
    {
     "data": {
      "text/plain": [
       "['Boro', 'Carbono', 'Fluor', 'Hidrógeno', 'Nitrógeno', 'Oxígeno']"
      ]
     },
     "execution_count": 135,
     "metadata": {},
     "output_type": "execute_result"
    }
   ],
   "source": [
    "elementos.sort()\n",
    "elementos"
   ]
  },
  {
   "cell_type": "markdown",
   "metadata": {},
   "source": [
    "En lugar del método sort() podemos utilizar la función sorted() la cual nos regresa una lista ordenada"
   ]
  },
  {
   "cell_type": "code",
   "execution_count": 136,
   "metadata": {},
   "outputs": [
    {
     "data": {
      "text/plain": [
       "['Boro', 'Carbono', 'Fluor', 'Hidrógeno', 'Nitrógeno', 'Oxígeno']"
      ]
     },
     "execution_count": 136,
     "metadata": {},
     "output_type": "execute_result"
    }
   ],
   "source": [
    "listaOrdenada=sorted(elementos)\n",
    "listaOrdenada"
   ]
  },
  {
   "cell_type": "markdown",
   "metadata": {},
   "source": [
    "## Método append()\n",
    "\n",
    "    Se utiliza para añadir un elemento a la lista"
   ]
  },
  {
   "cell_type": "code",
   "execution_count": 137,
   "metadata": {},
   "outputs": [
    {
     "data": {
      "text/plain": [
       "['Boro',\n",
       " 'Carbono',\n",
       " 'Fluor',\n",
       " 'Hidrógeno',\n",
       " 'Nitrógeno',\n",
       " 'Oxígeno',\n",
       " 'Cloro',\n",
       " 'Bromo']"
      ]
     },
     "execution_count": 137,
     "metadata": {},
     "output_type": "execute_result"
    }
   ],
   "source": [
    "elementos.append(\"Cloro\")\n",
    "elementos.append(\"Bromo\")\n",
    "elementos"
   ]
  },
  {
   "cell_type": "markdown",
   "metadata": {},
   "source": [
    "## Método extend()\n",
    "\n",
    "    Se utiliza para agregar una lista al final de otra lista\n",
    "    "
   ]
  },
  {
   "cell_type": "code",
   "execution_count": 138,
   "metadata": {},
   "outputs": [
    {
     "data": {
      "text/plain": [
       "['Boro',\n",
       " 'Carbono',\n",
       " 'Fluor',\n",
       " 'Hidrógeno',\n",
       " 'Nitrógeno',\n",
       " 'Oxígeno',\n",
       " 'Cloro',\n",
       " 'Bromo',\n",
       " 'Litio',\n",
       " 'Sodio',\n",
       " 'Potasio',\n",
       " 'Cesio',\n",
       " 'Rubidio',\n",
       " 'Francio']"
      ]
     },
     "execution_count": 138,
     "metadata": {},
     "output_type": "execute_result"
    }
   ],
   "source": [
    "alcalinos=[\"Litio\",\"Sodio\",\"Potasio\",\"Cesio\",\"Rubidio\",\"Francio\"]\n",
    "elementos.extend(alcalinos)\n",
    "elementos"
   ]
  },
  {
   "cell_type": "markdown",
   "metadata": {},
   "source": [
    "## Método insert(index,item)\n",
    "\n",
    "    Inserta un elemento nuevo a la lista en la posición indicada por index"
   ]
  },
  {
   "cell_type": "code",
   "execution_count": 139,
   "metadata": {},
   "outputs": [
    {
     "data": {
      "text/plain": [
       "['Boro',\n",
       " 'Carbono',\n",
       " 'Fluor',\n",
       " 'Aluminio',\n",
       " 'Hidrógeno',\n",
       " 'Nitrógeno',\n",
       " 'Oxígeno',\n",
       " 'Cloro',\n",
       " 'Bromo',\n",
       " 'Litio',\n",
       " 'Sodio',\n",
       " 'Potasio',\n",
       " 'Cesio',\n",
       " 'Rubidio',\n",
       " 'Francio']"
      ]
     },
     "execution_count": 139,
     "metadata": {},
     "output_type": "execute_result"
    }
   ],
   "source": [
    "elementos.insert(3,\"Aluminio\")\n",
    "elementos"
   ]
  },
  {
   "cell_type": "markdown",
   "metadata": {},
   "source": [
    "## Método remove(item)\n",
    "    \n",
    "    Remueve de la lista el elemento indicado en item, si hay varios se remueve el primero que coincide"
   ]
  },
  {
   "cell_type": "code",
   "execution_count": 140,
   "metadata": {},
   "outputs": [
    {
     "data": {
      "text/plain": [
       "['Boro',\n",
       " 'Carbono',\n",
       " 'Fluor',\n",
       " 'Aluminio',\n",
       " 'Hidrógeno',\n",
       " 'Nitrógeno',\n",
       " 'Oxígeno',\n",
       " 'Cloro',\n",
       " 'Bromo',\n",
       " 'Litio',\n",
       " 'Sodio',\n",
       " 'Potasio',\n",
       " 'Cesio',\n",
       " 'Rubidio']"
      ]
     },
     "execution_count": 140,
     "metadata": {},
     "output_type": "execute_result"
    }
   ],
   "source": [
    "elementos.remove(\"Francio\")\n",
    "elementos"
   ]
  },
  {
   "cell_type": "markdown",
   "metadata": {},
   "source": [
    "## Método index(item)\n",
    "\n",
    "    El método index() busca un elemento en la lista y devuelve su índice."
   ]
  },
  {
   "cell_type": "code",
   "execution_count": 141,
   "metadata": {},
   "outputs": [
    {
     "data": {
      "text/plain": [
       "8"
      ]
     },
     "execution_count": 141,
     "metadata": {},
     "output_type": "execute_result"
    }
   ],
   "source": [
    "index=elementos.index(\"Bromo\")\n",
    "index"
   ]
  },
  {
   "cell_type": "markdown",
   "metadata": {},
   "source": [
    "## Método count(item)\n",
    "\n",
    "    El método count() devuelve el número de apariciones de un elemento en una lista."
   ]
  },
  {
   "cell_type": "code",
   "execution_count": 142,
   "metadata": {},
   "outputs": [
    {
     "data": {
      "text/plain": [
       "1"
      ]
     },
     "execution_count": 142,
     "metadata": {},
     "output_type": "execute_result"
    }
   ],
   "source": [
    "elementos.count(\"Cloro\")\n"
   ]
  },
  {
   "cell_type": "markdown",
   "metadata": {},
   "source": [
    "## Método remove()\n",
    "\n",
    "    El método remove() busca el elemento dado en la lista y elimina el primer elemento coincidente."
   ]
  },
  {
   "cell_type": "code",
   "execution_count": 143,
   "metadata": {},
   "outputs": [
    {
     "data": {
      "text/plain": [
       "['Boro',\n",
       " 'Carbono',\n",
       " 'Fluor',\n",
       " 'Aluminio',\n",
       " 'Hidrógeno',\n",
       " 'Nitrógeno',\n",
       " 'Oxígeno',\n",
       " 'Bromo',\n",
       " 'Litio',\n",
       " 'Sodio',\n",
       " 'Potasio',\n",
       " 'Cesio',\n",
       " 'Rubidio']"
      ]
     },
     "execution_count": 143,
     "metadata": {},
     "output_type": "execute_result"
    }
   ],
   "source": [
    "elementos.remove(\"Cloro\")\n",
    "elementos"
   ]
  },
  {
   "cell_type": "markdown",
   "metadata": {},
   "source": [
    "## Método pop()\n",
    "\n",
    "    El método pop() elimina y devuelve el elemento en el índice dado (pasado como un argumento) de la lista. Si no se indica el índice elimina el último elemento de la lista."
   ]
  },
  {
   "cell_type": "code",
   "execution_count": 144,
   "metadata": {},
   "outputs": [
    {
     "data": {
      "text/plain": [
       "['Boro',\n",
       " 'Carbono',\n",
       " 'Fluor',\n",
       " 'Aluminio',\n",
       " 'Hidrógeno',\n",
       " 'Nitrógeno',\n",
       " 'Oxígeno',\n",
       " 'Bromo',\n",
       " 'Litio',\n",
       " 'Sodio',\n",
       " 'Potasio',\n",
       " 'Cesio']"
      ]
     },
     "execution_count": 144,
     "metadata": {},
     "output_type": "execute_result"
    }
   ],
   "source": [
    "elementos.pop()\n",
    "elementos"
   ]
  },
  {
   "cell_type": "code",
   "execution_count": 145,
   "metadata": {},
   "outputs": [
    {
     "data": {
      "text/plain": [
       "'Nitrógeno'"
      ]
     },
     "execution_count": 145,
     "metadata": {},
     "output_type": "execute_result"
    }
   ],
   "source": [
    "elementos.pop(5)"
   ]
  },
  {
   "cell_type": "code",
   "execution_count": 146,
   "metadata": {},
   "outputs": [
    {
     "data": {
      "text/plain": [
       "['Boro',\n",
       " 'Carbono',\n",
       " 'Fluor',\n",
       " 'Aluminio',\n",
       " 'Hidrógeno',\n",
       " 'Oxígeno',\n",
       " 'Bromo',\n",
       " 'Litio',\n",
       " 'Sodio',\n",
       " 'Potasio',\n",
       " 'Cesio']"
      ]
     },
     "execution_count": 146,
     "metadata": {},
     "output_type": "execute_result"
    }
   ],
   "source": [
    "elementos"
   ]
  },
  {
   "cell_type": "markdown",
   "metadata": {},
   "source": [
    "## Método reverse()\n",
    "\n",
    "    El método reverse() invierte los elementos de una lista dada."
   ]
  },
  {
   "cell_type": "code",
   "execution_count": 147,
   "metadata": {},
   "outputs": [
    {
     "data": {
      "text/plain": [
       "['Cesio',\n",
       " 'Potasio',\n",
       " 'Sodio',\n",
       " 'Litio',\n",
       " 'Bromo',\n",
       " 'Oxígeno',\n",
       " 'Hidrógeno',\n",
       " 'Aluminio',\n",
       " 'Fluor',\n",
       " 'Carbono',\n",
       " 'Boro']"
      ]
     },
     "execution_count": 147,
     "metadata": {},
     "output_type": "execute_result"
    }
   ],
   "source": [
    "elementos.reverse()\n",
    "elementos"
   ]
  },
  {
   "cell_type": "markdown",
   "metadata": {},
   "source": [
    "## Metodo copy()\n",
    "\n",
    "    El método copy() devuelve una copia superficial de la lista."
   ]
  },
  {
   "cell_type": "code",
   "execution_count": 148,
   "metadata": {},
   "outputs": [
    {
     "data": {
      "text/plain": [
       "['Cesio',\n",
       " 'Potasio',\n",
       " 'Sodio',\n",
       " 'Litio',\n",
       " 'Bromo',\n",
       " 'Oxígeno',\n",
       " 'Hidrógeno',\n",
       " 'Aluminio',\n",
       " 'Fluor',\n",
       " 'Carbono',\n",
       " 'Boro']"
      ]
     },
     "execution_count": 148,
     "metadata": {},
     "output_type": "execute_result"
    }
   ],
   "source": [
    "elem2=elementos.copy()\n",
    "elem2"
   ]
  },
  {
   "cell_type": "markdown",
   "metadata": {},
   "source": [
    "Si utilizamos la asignación directa a la variable elem2=elementos. Cada vez que se cambie el la lista elem2 cambiara elementos tambien"
   ]
  },
  {
   "cell_type": "code",
   "execution_count": 149,
   "metadata": {},
   "outputs": [
    {
     "name": "stdout",
     "output_type": "stream",
     "text": [
      "['Cesio', 'Potasio', 'Sodio', 'Hierro', 'Bromo', 'Oxígeno', 'Hidrógeno', 'Aluminio', 'Fluor', 'Carbono', 'Boro']\n",
      "['Cesio', 'Potasio', 'Sodio', 'Litio', 'Bromo', 'Oxígeno', 'Hidrógeno', 'Aluminio', 'Fluor', 'Carbono', 'Boro']\n"
     ]
    }
   ],
   "source": [
    "elem2[3]=\"Hierro\"\n",
    "print(elem2)\n",
    "print(elementos)"
   ]
  },
  {
   "cell_type": "code",
   "execution_count": 150,
   "metadata": {},
   "outputs": [
    {
     "name": "stdout",
     "output_type": "stream",
     "text": [
      "['Cesio', 'Potasio', 'Sodio', 'Hierro', 'Bromo', 'Oxígeno', 'Hidrógeno', 'Aluminio', 'Fluor', 'Carbono', 'Boro']\n",
      "['Cesio', 'Potasio', 'Sodio', 'Hierro', 'Bromo', 'Oxígeno', 'Hidrógeno', 'Aluminio', 'Fluor', 'Carbono', 'Boro']\n"
     ]
    }
   ],
   "source": [
    "elem2=elementos\n",
    "elem2[3]=\"Hierro\"\n",
    "print(elem2)\n",
    "print(elementos)"
   ]
  },
  {
   "cell_type": "markdown",
   "metadata": {},
   "source": [
    "## Método clear()\n",
    "\n",
    "    El método clear() elimina todos los elementos de la lista."
   ]
  },
  {
   "cell_type": "code",
   "execution_count": 151,
   "metadata": {},
   "outputs": [
    {
     "name": "stdout",
     "output_type": "stream",
     "text": [
      "Lista Original ['Cesio', 'Potasio', 'Sodio', 'Hierro', 'Bromo', 'Oxígeno', 'Hidrógeno', 'Aluminio', 'Fluor', 'Carbono', 'Boro']\n",
      "Lista vacía []\n"
     ]
    }
   ],
   "source": [
    "elem2=elementos.copy()\n",
    "print(\"Lista Original\",elem2)\n",
    "elem2.clear()\n",
    "print(\"Lista vacía\",elem2)"
   ]
  },
  {
   "cell_type": "code",
   "execution_count": 152,
   "metadata": {},
   "outputs": [
    {
     "data": {
      "text/plain": [
       "['Cesio',\n",
       " 'Potasio',\n",
       " 'Sodio',\n",
       " 'Hierro',\n",
       " 'Bromo',\n",
       " 'Oxígeno',\n",
       " 'Hidrógeno',\n",
       " 'Aluminio',\n",
       " 'Fluor',\n",
       " 'Carbono',\n",
       " 'Boro']"
      ]
     },
     "execution_count": 152,
     "metadata": {},
     "output_type": "execute_result"
    }
   ],
   "source": [
    "elementos"
   ]
  },
  {
   "cell_type": "code",
   "execution_count": null,
   "metadata": {},
   "outputs": [],
   "source": []
  }
 ],
 "metadata": {
  "kernelspec": {
   "display_name": "Python 3",
   "language": "python",
   "name": "python3"
  },
  "language_info": {
   "codemirror_mode": {
    "name": "ipython",
    "version": 3
   },
   "file_extension": ".py",
   "mimetype": "text/x-python",
   "name": "python",
   "nbconvert_exporter": "python",
   "pygments_lexer": "ipython3",
   "version": "3.6.5"
  }
 },
 "nbformat": 4,
 "nbformat_minor": 2
}
