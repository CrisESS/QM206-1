{
 "cells": [
  {
   "cell_type": "markdown",
   "metadata": {},
   "source": [
    "#### Tuplas: \n",
    "\n",
    "En muchos sentidos, las tuplas son similares a las listas. Contienen una cantidad de\n",
    "valores que están separados por comas. A diferencia de las listas, las tuplas tienen sus datos\n",
    "encerrado entre paréntesis en lugar de corchetes. En las Tuplas no se pueden cambiar los\n",
    "valores previamente definidos.\n",
    "\n",
    "#### Diccionario:\n",
    "\n",
    "Un diccionario de Python es una tabla. Son muy similares a las matrices\n",
    "y se puede usar para almacenar grandes cantidades de datos. No hay un orden dentro\n",
    "de los diccionarios."
   ]
  },
  {
   "cell_type": "code",
   "execution_count": 39,
   "metadata": {
    "collapsed": true
   },
   "outputs": [],
   "source": [
    "x=(1,2,3,4,5)   #x es una Tupla"
   ]
  },
  {
   "cell_type": "code",
   "execution_count": 40,
   "metadata": {
    "collapsed": false
   },
   "outputs": [
    {
     "name": "stdout",
     "output_type": "stream",
     "text": [
      "(1, 2, 3, 4, 5)\n",
      "4\n",
      "(3, 4, 5)\n"
     ]
    }
   ],
   "source": [
    "print(x)\n",
    "print(x[3])\n",
    "print(x[2:5])"
   ]
  },
  {
   "cell_type": "code",
   "execution_count": 41,
   "metadata": {
    "collapsed": false
   },
   "outputs": [
    {
     "ename": "TypeError",
     "evalue": "'tuple' object does not support item assignment",
     "output_type": "error",
     "traceback": [
      "\u001b[0;31m---------------------------------------------------------------------------\u001b[0m",
      "\u001b[0;31mTypeError\u001b[0m                                 Traceback (most recent call last)",
      "\u001b[0;32m<ipython-input-41-bad017ce13ba>\u001b[0m in \u001b[0;36m<module>\u001b[0;34m()\u001b[0m\n\u001b[0;32m----> 1\u001b[0;31m \u001b[0mx\u001b[0m\u001b[1;33m[\u001b[0m\u001b[1;36m3\u001b[0m\u001b[1;33m]\u001b[0m\u001b[1;33m=\u001b[0m\u001b[1;36m8\u001b[0m   \u001b[1;31m#esto nos dará un error ya que no se puede cambiar los valores prdefinidos en la tupla\u001b[0m\u001b[1;33m\u001b[0m\u001b[0m\n\u001b[0m",
      "\u001b[0;31mTypeError\u001b[0m: 'tuple' object does not support item assignment"
     ]
    }
   ],
   "source": [
    "x[3]=8   #esto nos dará un error ya que no se puede cambiar los valores prdefinidos en la tupla"
   ]
  },
  {
   "cell_type": "code",
   "execution_count": null,
   "metadata": {
    "collapsed": true
   },
   "outputs": [],
   "source": [
    "dict={\"C\":[\"Carbono\",6,4,12],\"H\":[\"Hidrogeno\",1,1,1],\"N\":[\"Nitrogeno\",7,3,14]}           #dict es un diccionario"
   ]
  },
  {
   "cell_type": "code",
   "execution_count": null,
   "metadata": {
    "collapsed": false
   },
   "outputs": [],
   "source": [
    "print(dict[\"C\"])"
   ]
  },
  {
   "cell_type": "code",
   "execution_count": null,
   "metadata": {
    "collapsed": false
   },
   "outputs": [],
   "source": [
    "print(dict[\"N\"])"
   ]
  },
  {
   "cell_type": "code",
   "execution_count": null,
   "metadata": {
    "collapsed": false
   },
   "outputs": [],
   "source": [
    "len(dict)    #numero de entradas del diccionario"
   ]
  },
  {
   "cell_type": "markdown",
   "metadata": {},
   "source": [
    "#### Operadores Aritméticos\n",
    "\n",
    ">Los operadores se utilizan para cambiar o verificar el valor de una pieza de datos proporcionada. Existen\n",
    "muchos tipos diferentes de operadores, incluidos los operadores arthmetic (+, -, /,%. *), comparación\n",
    "operadores, operadores de asignación, operadores lógicos, operadores bit a bit y operadores de identidad. Para nuestros propósitos, simplemente nos enfocaremos en operadores aritméticos y operadores de comparación."
   ]
  },
  {
   "cell_type": "code",
   "execution_count": 45,
   "metadata": {
    "collapsed": false
   },
   "outputs": [
    {
     "data": {
      "text/plain": [
       "8"
      ]
     },
     "execution_count": 45,
     "metadata": {},
     "output_type": "execute_result"
    }
   ],
   "source": [
    "3+5     #suma"
   ]
  },
  {
   "cell_type": "code",
   "execution_count": 46,
   "metadata": {
    "collapsed": false
   },
   "outputs": [
    {
     "data": {
      "text/plain": [
       "15"
      ]
     },
     "execution_count": 46,
     "metadata": {},
     "output_type": "execute_result"
    }
   ],
   "source": [
    "3*5     #multiplicacion"
   ]
  },
  {
   "cell_type": "code",
   "execution_count": 47,
   "metadata": {
    "collapsed": false
   },
   "outputs": [
    {
     "data": {
      "text/plain": [
       "2.0"
      ]
     },
     "execution_count": 47,
     "metadata": {},
     "output_type": "execute_result"
    }
   ],
   "source": [
    "6/3     #división"
   ]
  },
  {
   "cell_type": "code",
   "execution_count": 48,
   "metadata": {
    "collapsed": false
   },
   "outputs": [
    {
     "data": {
      "text/plain": [
       "2"
      ]
     },
     "execution_count": 48,
     "metadata": {},
     "output_type": "execute_result"
    }
   ],
   "source": [
    "20%3    #módulo       20/3=6    modulo=20-6*3"
   ]
  },
  {
   "cell_type": "code",
   "execution_count": 49,
   "metadata": {
    "collapsed": false
   },
   "outputs": [
    {
     "data": {
      "text/plain": [
       "True"
      ]
     },
     "execution_count": 49,
     "metadata": {},
     "output_type": "execute_result"
    }
   ],
   "source": [
    "6>2     #operador lógico  mayor que"
   ]
  },
  {
   "cell_type": "code",
   "execution_count": 50,
   "metadata": {
    "collapsed": false
   },
   "outputs": [
    {
     "data": {
      "text/plain": [
       "False"
      ]
     },
     "execution_count": 50,
     "metadata": {},
     "output_type": "execute_result"
    }
   ],
   "source": [
    "6>8"
   ]
  },
  {
   "cell_type": "code",
   "execution_count": 51,
   "metadata": {
    "collapsed": false
   },
   "outputs": [
    {
     "data": {
      "text/plain": [
       "True"
      ]
     },
     "execution_count": 51,
     "metadata": {},
     "output_type": "execute_result"
    }
   ],
   "source": [
    "a=7     #operador de asignación  =\n",
    "a==7    #operador de igualdad    =="
   ]
  },
  {
   "cell_type": "code",
   "execution_count": 52,
   "metadata": {
    "collapsed": false
   },
   "outputs": [
    {
     "data": {
      "text/plain": [
       "False"
      ]
     },
     "execution_count": 52,
     "metadata": {},
     "output_type": "execute_result"
    }
   ],
   "source": [
    "a==3"
   ]
  },
  {
   "cell_type": "markdown",
   "metadata": {},
   "source": [
    "#### Operadores condicionales (declaraciones If / Else)\n",
    "\n",
    ">Python también hace uso de declaraciones de toma de decisiones. Estas estructuras permiten al\n",
    "programador especificar una o más condiciones que serán probadas por el programa. El\n",
    "programa determinará si la declaración es verdadera y ejecutará el código proporcionado. Si el\n",
    "la declaración es falsa, el programador también puede proporcionar sentencias y códigos adicionales para ejecutar.\n",
    "Python usa varios tipos diferentes de declaraciones de toma de decisiones:"
   ]
  },
  {
   "cell_type": "code",
   "execution_count": 44,
   "metadata": {
    "collapsed": false
   },
   "outputs": [
    {
     "name": "stdout",
     "output_type": "stream",
     "text": [
      "a mayor\n"
     ]
    }
   ],
   "source": [
    "a=9\n",
    "if a>8:\n",
    "    print(\"a mayor\")       # se ejecuta este procedimiento si la proposición es cierta\n",
    "else:\n",
    "    print(\"a menor\")       # se ejecuta este procedimiento sila proposición es falsa"
   ]
  },
  {
   "cell_type": "markdown",
   "metadata": {},
   "source": [
    "#### Bucles\n",
    "\n",
    ">Los bucles están presentes en todos los lenguajes de programación. Existen bucles para permitir que un programa\n",
    "ejecutar un cierto bloque de código un número específico de veces. Dentro de un ciclo, el código es\n",
    "ejecutado en forma repetida. El programa se mantiene dentro de un ciclo hasta que se haya ejecutado un\n",
    "cantidad de veces Puede haber múltiples instrucciones dentro de un bucle. Los siguientes tipos de\n",
    "los bucles están presentes en el lenguaje de programación de Python"
   ]
  },
  {
   "cell_type": "code",
   "execution_count": null,
   "metadata": {
    "collapsed": false
   },
   "outputs": [],
   "source": [
    "n=0\n",
    "while n<10:            #el ciclo se repite mientras n<10\n",
    "    print(n)\n",
    "    n+=1               #se incrementa el valor de n en una unidad"
   ]
  },
  {
   "cell_type": "markdown",
   "metadata": {},
   "source": [
    "#### Ciclos for \n",
    "\n",
    "Los ciclos \"for\" son muy similares a los ciclos \"While\". Te permiten repetir un fragmento de código un determinado \n",
    "numero de veces. Aquí hay un ejemplo de un ciclo For"
   ]
  },
  {
   "cell_type": "code",
   "execution_count": 42,
   "metadata": {
    "collapsed": false
   },
   "outputs": [
    {
     "name": "stdout",
     "output_type": "stream",
     "text": [
      "azul\n",
      "amarillo\n",
      "verde\n",
      "rojo\n",
      "naranja\n",
      "negro\n"
     ]
    }
   ],
   "source": [
    "colores=[\"azul\",\"amarillo\",\"verde\",\"rojo\",\"naranja\",\"negro\"]\n",
    "for c in colores:\n",
    "    print(c)"
   ]
  },
  {
   "cell_type": "code",
   "execution_count": 43,
   "metadata": {
    "collapsed": false
   },
   "outputs": [
    {
     "name": "stdout",
     "output_type": "stream",
     "text": [
      "0\n",
      "1\n",
      "2\n",
      "3\n",
      "5\n",
      "7\n"
     ]
    }
   ],
   "source": [
    "for a in range(8):       #el ciclo se repite para valores de a desde 0 hasta 7\n",
    "    if(a==4 or a==6):\n",
    "        continue         \n",
    "    print(a)"
   ]
  },
  {
   "cell_type": "code",
   "execution_count": null,
   "metadata": {
    "collapsed": true
   },
   "outputs": [],
   "source": []
  }
 ],
 "metadata": {
  "kernelspec": {
   "display_name": "Python 3",
   "language": "python",
   "name": "python3"
  },
  "language_info": {
   "codemirror_mode": {
    "name": "ipython",
    "version": 3
   },
   "file_extension": ".py",
   "mimetype": "text/x-python",
   "name": "python",
   "nbconvert_exporter": "python",
   "pygments_lexer": "ipython3",
   "version": "3.6.0"
  }
 },
 "nbformat": 4,
 "nbformat_minor": 2
}
