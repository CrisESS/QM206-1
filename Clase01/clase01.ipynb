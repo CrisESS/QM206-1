{
 "cells": [
  {
   "cell_type": "markdown",
   "metadata": {},
   "source": [
    "# Clase No.1 QM 206\n",
    "## Prof. Pedro González Beermann\n",
    "\n",
    "\n",
    "## Variables\n",
    "\n",
    ">Las variables, en cada lenguaje de programación, son ubicaciones de memoria que almacenan valores y, por lo tanto, cada vez que se crea una variable, también reserva memoria para esa variable en particular.\n",
    "\n",
    ">A diferencia de algunos lenguajes de programación,en Python no dr necesita declarar una variable explícitamente. Todo lo que necesita hacer es usar el signo igual a (=) para asignar un valor a una variable. Aquí hay un ejemplo:"
   ]
  },
  {
   "cell_type": "code",
   "execution_count": 4,
   "metadata": {},
   "outputs": [],
   "source": [
    "x=5\n",
    "ciudad=\"David\"\n",
    "op=True\n",
    "y=1.3456"
   ]
  },
  {
   "cell_type": "code",
   "execution_count": 2,
   "metadata": {},
   "outputs": [
    {
     "name": "stdout",
     "output_type": "stream",
     "text": [
      "5\n",
      "David\n",
      "True\n",
      "1.3456\n"
     ]
    }
   ],
   "source": [
    "print(x)\n",
    "print(ciudad)\n",
    "print(op)\n",
    "print(y)"
   ]
  },
  {
   "cell_type": "markdown",
   "metadata": {},
   "source": [
    "## Tipos de Datos\n",
    "\n",
    "Todos los lenguajes de programación disponibles en la actualidad usan tipos de datos como una forma de almacenar información, categorizados por similitudes. Como muchos otros lenguajes, Python usa los tipos de datos estándar. Éstas incluyen:"
   ]
  },
  {
   "cell_type": "markdown",
   "metadata": {},
   "source": [
    "### Números \n",
    "\n",
    "Los tipos de datos numéricos se usan para almacenar valores numéricos. A diferencia de otros idiomas que incluyen varios tipos de datos diferentes para almacenar números según las necesidades de almacenamiento, Python crea un nuevo objeto con una nueva asignación de memoria para números más grandes. Aunque para nuestros propósitos no tendrá que preocuparse por los tipos de datos de números individuales, los diferentes tipos numéricos incluyen;\n",
    "\n",
    "- int (enteros con signo)\n",
    "\n",
    "- long (enteros largos)\n",
    "\n",
    "- float (punto flotante)\n",
    "\n",
    "- complejo (números complejos)\n",
    "\n",
    "Los números no requieren que nombre el tipo de datos. Aquí hay un ejemplo de asignar un número a una variable;"
   ]
  },
  {
   "cell_type": "code",
   "execution_count": 7,
   "metadata": {},
   "outputs": [],
   "source": [
    "var1=5         #entero\n",
    "var2=635728292039   #entero lago\n",
    "var3=3.1416      #punto flotante\n",
    "var4=2+3j      #complejo"
   ]
  },
  {
   "cell_type": "code",
   "execution_count": 8,
   "metadata": {},
   "outputs": [
    {
     "data": {
      "text/plain": [
       "(2-3j)"
      ]
     },
     "execution_count": 8,
     "metadata": {},
     "output_type": "execute_result"
    }
   ],
   "source": [
    "var4.conjugate()"
   ]
  },
  {
   "cell_type": "markdown",
   "metadata": {},
   "source": [
    "### Cadenas\n",
    "\n",
    "Las frases o palabras se almacenan como cadenas. Las cadenas están siempre dentro de las comillas. Cualquier cosa dentro de las comillas se considera una cadena, ya sea que esté asignada o no a una variable. Algunos ejemplos de las diferentes formas en que se usan las cadenas incluyen:"
   ]
  },
  {
   "cell_type": "code",
   "execution_count": 16,
   "metadata": {},
   "outputs": [
    {
     "name": "stdout",
     "output_type": "stream",
     "text": [
      "Universidad Autonoma de Chiriqui\n",
      "v\n",
      "iversidad \n",
      "ersidad Autonoma de Chiriqui\n",
      "Universidad Autonoma de Chir\n"
     ]
    }
   ],
   "source": [
    "cadena=\"Universidad Autonoma de Chiriqui\"\n",
    "\n",
    "print(cadena)          #Imprime la cadena completa\n",
    "print(cadena[3])       #Imprime el caracter con índice 3\n",
    "print(cadena[2:12])    #Imprime la cadena iniciando en 2 y finalizando en el 11\n",
    "print(cadena[4:])      #Imprim la cadena a partir del índice 4\n",
    "print(cadena[:-4])     #Imprime la cadena eliminando los últimos 4 caracteres"
   ]
  },
  {
   "cell_type": "markdown",
   "metadata": {},
   "source": [
    "### Listas:\n",
    "\n",
    "Las listas de Python proporcionan formas muy versátiles de almacenar listas de artículos. Una lista contiene elementos separados por comas y encerrados entre corchetes. Existen múltiples formas de acceder a la información que está almacenada dentro de las listas. Estos son algunos ejemplos de las formas más populares de usar cadenas:"
   ]
  },
  {
   "cell_type": "code",
   "execution_count": 20,
   "metadata": {},
   "outputs": [
    {
     "name": "stdout",
     "output_type": "stream",
     "text": [
      "[3, 4, 5, 7, 9, 2]\n",
      "[8, 2, 'Juan', 70.2, False]\n"
     ]
    }
   ],
   "source": [
    "A=[3,4,5,7,9,2]\n",
    "B=[8,2,\"Juan\",70.2,False]\n",
    "print(A)\n",
    "print(B)"
   ]
  },
  {
   "cell_type": "code",
   "execution_count": 24,
   "metadata": {},
   "outputs": [
    {
     "name": "stdout",
     "output_type": "stream",
     "text": [
      "7\n",
      "[7, 9, 2]\n",
      "[3, 4, 5]\n",
      "[5, 7]\n"
     ]
    }
   ],
   "source": [
    "print(A[3])\n",
    "print(A[3:])\n",
    "print(A[:3])\n",
    "print(A[2:4])"
   ]
  },
  {
   "cell_type": "code",
   "execution_count": null,
   "metadata": {},
   "outputs": [],
   "source": []
  }
 ],
 "metadata": {
  "kernelspec": {
   "display_name": "Python 3",
   "language": "python",
   "name": "python3"
  },
  "language_info": {
   "codemirror_mode": {
    "name": "ipython",
    "version": 3
   },
   "file_extension": ".py",
   "mimetype": "text/x-python",
   "name": "python",
   "nbconvert_exporter": "python",
   "pygments_lexer": "ipython3",
   "version": "3.6.5"
  }
 },
 "nbformat": 4,
 "nbformat_minor": 2
}
