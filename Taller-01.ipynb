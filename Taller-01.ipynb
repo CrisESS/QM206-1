{
 "cells": [
  {
   "cell_type": "markdown",
   "metadata": {},
   "source": [
    "# Taller No. 1"
   ]
  },
  {
   "cell_type": "markdown",
   "metadata": {},
   "source": [
    "## 1. Serie de Fibonacci\n",
    "\n",
    "Diseñe un programa que genere la serie de Fibonacci: 1,2,3,5,8,13,21...."
   ]
  },
  {
   "cell_type": "code",
   "execution_count": null,
   "metadata": {},
   "outputs": [],
   "source": []
  },
  {
   "cell_type": "markdown",
   "metadata": {},
   "source": [
    "## 2. Diccionario de Elementos\n",
    "\n",
    "Declarar una variable tipo diccionario que contenga los primeros 10 elementos de la tabla periodica, cuya clave sea el símbolo del elemento y su valor una lista de las siguientes propiedades: [ nombre, NA, PA, Grupo, Enlaces]"
   ]
  },
  {
   "cell_type": "code",
   "execution_count": null,
   "metadata": {},
   "outputs": [],
   "source": []
  },
  {
   "cell_type": "markdown",
   "metadata": {},
   "source": [
    "## 3. Formula Química\n",
    "\n",
    "Diseñar un programa que obtenga los elementos químicos a partir de una fórmula química contenida en una cadena"
   ]
  },
  {
   "cell_type": "code",
   "execution_count": null,
   "metadata": {},
   "outputs": [],
   "source": []
  }
 ],
 "metadata": {
  "kernelspec": {
   "display_name": "Python 3",
   "language": "python",
   "name": "python3"
  },
  "language_info": {
   "codemirror_mode": {
    "name": "ipython",
    "version": 3
   },
   "file_extension": ".py",
   "mimetype": "text/x-python",
   "name": "python",
   "nbconvert_exporter": "python",
   "pygments_lexer": "ipython3",
   "version": "3.6.5"
  }
 },
 "nbformat": 4,
 "nbformat_minor": 2
}
